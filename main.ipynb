{
 "cells": [
  {
   "cell_type": "code",
   "execution_count": 183,
   "metadata": {},
   "outputs": [],
   "source": [
    "import torch\n",
    "import torchvision\n",
    "import torchvision.transforms as transforms\n",
    "from torch.utils.data import DataLoader"
   ]
  },
  {
   "cell_type": "code",
   "execution_count": 184,
   "metadata": {},
   "outputs": [
    {
     "name": "stdout",
     "output_type": "stream",
     "text": [
      "Files already downloaded and verified\n"
     ]
    }
   ],
   "source": [
    "mnist_transform = transforms.Compose([\n",
    "    transforms.ToTensor(),\n",
    "    transforms.Resize((32, 32)),\n",
    "    transforms.Lambda(lambda x: x.repeat(3, 1, 1))\n",
    "])\n",
    "\n",
    "cifar_transform = transforms.Compose([\n",
    "    transforms.ToTensor()\n",
    "])\n",
    "mnist_dataset = torchvision.datasets.MNIST(root='./data', train=True, download=True, transform=mnist_transform)\n",
    "cifar_dataset = torchvision.datasets.CIFAR10(root='./data', train=True, download=True, transform=cifar_transform)"
   ]
  },
  {
   "cell_type": "code",
   "execution_count": 216,
   "metadata": {},
   "outputs": [
    {
     "name": "stdout",
     "output_type": "stream",
     "text": [
      "MNIST image shape: torch.Size([1, 3, 32, 32])\n",
      "CIFAR-10 image shape: torch.Size([1, 3, 32, 32])\n"
     ]
    }
   ],
   "source": [
    "mnist_loader = DataLoader(mnist_dataset, batch_size=1, shuffle=True)\n",
    "cifar_loader = DataLoader(cifar_dataset, batch_size=1, shuffle=True)\n",
    "\n",
    "# Fetch one random sample from each dataset\n",
    "mnist_image, _ = next(iter(mnist_loader))\n",
    "cifar_image, _ = next(iter(cifar_loader))\n",
    "\n",
    "# Verify dimensions\n",
    "print(\"MNIST image shape:\", mnist_image.shape)\n",
    "print(\"CIFAR-10 image shape:\", cifar_image.shape)"
   ]
  },
  {
   "cell_type": "code",
   "execution_count": 217,
   "metadata": {},
   "outputs": [
    {
     "name": "stdout",
     "output_type": "stream",
     "text": [
      "Mean image shape: torch.Size([1, 3, 32, 32])\n"
     ]
    }
   ],
   "source": [
    "mean_image = (mnist_image + cifar_image) / 2.0\n",
    "print(\"Mean image shape:\", mean_image.shape)\n"
   ]
  },
  {
   "cell_type": "code",
   "execution_count": 218,
   "metadata": {},
   "outputs": [
    {
     "data": {
      "image/png": "[encoded data removed]",
      "text/plain": [
       "<Figure size 800x300 with 2 Axes>"
      ]
     },
     "metadata": {},
     "output_type": "display_data"
    }
   ],
   "source": [
    "import matplotlib.pyplot as plt\n",
    "import numpy as np\n",
    "\n",
    "plt.figure(figsize=(8, 3))\n",
    "mnist_image_np = mnist_image.squeeze(0).permute(1, 2, 0).cpu().numpy()\n",
    "cifar_image_np = cifar_image.squeeze(0).permute(1, 2, 0).cpu().numpy()\n",
    "mean_image_np = mean_image.squeeze(0).permute(1, 2, 0).cpu().numpy()\n",
    "plt.subplot(1, 2, 1)\n",
    "plt.title('MNIST Image')\n",
    "plt.imshow(mnist_image_np, cmap='gray')\n",
    "plt.axis('off')\n",
    "\n",
    "plt.subplot(1, 2, 2)\n",
    "plt.title('CIFAR-10 Image')\n",
    "plt.imshow(cifar_image_np)\n",
    "plt.axis('off')\n",
    "\n",
    "plt.show()"
   ]
  },
  {
   "cell_type": "code",
   "execution_count": 219,
   "metadata": {},
   "outputs": [
    {
     "data": {
      "image/png": "[encoded data removed]",
      "text/plain": [
       "<Figure size 640x480 with 1 Axes>"
      ]
     },
     "metadata": {},
     "output_type": "display_data"
    }
   ],
   "source": [
    "plt.title('mean Image')\n",
    "plt.imshow(mean_image_np)\n",
    "plt.show()"
   ]
  },
  {
   "cell_type": "code",
   "execution_count": 220,
   "metadata": {},
   "outputs": [],
   "source": [
    "X_train = mean_image \n",
    "\n",
    "num_repeats = 100 \n",
    "X_train = X_train.repeat(num_repeats, 1, 1, 1)"
   ]
  },
  {
   "cell_type": "code",
   "execution_count": 221,
   "metadata": {},
   "outputs": [],
   "source": [
    "import torch\n",
    "import torch.nn as nn\n",
    "import torch.optim as optim\n",
    "\n",
    "class Autoencoder(nn.Module):\n",
    "    def __init__(self):\n",
    "        super(Autoencoder, self).__init__()\n",
    "        \n",
    "        # Encoder\n",
    "        self.encoder = nn.Sequential(\n",
    "            nn.Conv2d(3, 64, kernel_size=3, padding=1),\n",
    "            nn.ReLU(),\n",
    "            nn.MaxPool2d(2, stride=2),\n",
    "            nn.Conv2d(64, 32, kernel_size=3, padding=1),\n",
    "            nn.ReLU(),\n",
    "            nn.MaxPool2d(2, stride=2),\n",
    "            nn.Conv2d(32, 16, kernel_size=3, padding=1),\n",
    "            nn.ReLU(),\n",
    "            nn.MaxPool2d(2, stride=2)\n",
    "        )\n",
    "        \n",
    "        # Decoder 1\n",
    "        self.decoder1 = nn.Sequential(\n",
    "            nn.Conv2d(16, 16, kernel_size=3, padding=1),\n",
    "            nn.ReLU(),\n",
    "            nn.Upsample(scale_factor=2, mode='nearest'),\n",
    "            nn.Conv2d(16, 32, kernel_size=3, padding=1),\n",
    "            nn.ReLU(),\n",
    "            nn.Upsample(scale_factor=2, mode='nearest'),\n",
    "            nn.Conv2d(32, 64, kernel_size=3, padding=1),\n",
    "            nn.ReLU(),\n",
    "            nn.Upsample(scale_factor=2, mode='nearest'),\n",
    "            nn.Conv2d(64, 3, kernel_size=3, padding=1),\n",
    "            nn.Sigmoid()\n",
    "        )\n",
    "        \n",
    "        # Decoder 2\n",
    "        self.decoder2 = nn.Sequential(\n",
    "            nn.Conv2d(16, 16, kernel_size=3, padding=1),\n",
    "            nn.ReLU(),\n",
    "            nn.Upsample(scale_factor=2, mode='nearest'),\n",
    "            nn.Conv2d(16, 32, kernel_size=3, padding=1),\n",
    "            nn.ReLU(),\n",
    "            nn.Upsample(scale_factor=2, mode='nearest'),\n",
    "            nn.Conv2d(32, 64, kernel_size=3, padding=1),\n",
    "            nn.ReLU(),\n",
    "            nn.Upsample(scale_factor=2, mode='nearest'),\n",
    "            nn.Conv2d(64, 3, kernel_size=3, padding=1),\n",
    "            nn.Sigmoid()\n",
    "        )\n",
    "\n",
    "    def forward(self, x):\n",
    "        encoded = self.encoder(x)\n",
    "        decoded1 = self.decoder1(encoded)\n",
    "        decoded2 = self.decoder2(encoded)\n",
    "        return decoded1, decoded2\n",
    "\n",
    "model = Autoencoder()\n",
    "criterion = nn.MSELoss()\n",
    "optimizer = optim.Adam(model.parameters(), lr=0.001)\n"
   ]
  },
  {
   "cell_type": "code",
   "execution_count": 206,
   "metadata": {},
   "outputs": [
    {
     "name": "stdout",
     "output_type": "stream",
     "text": [
      "----------------------------------------------------------------\n",
      "        Layer (type)               Output Shape         Param #\n",
      "================================================================\n",
      "            Conv2d-1         [-1, 64, 224, 224]           1,792\n",
      "              ReLU-2         [-1, 64, 224, 224]               0\n",
      "         MaxPool2d-3         [-1, 64, 112, 112]               0\n",
      "            Conv2d-4         [-1, 32, 112, 112]          18,464\n",
      "              ReLU-5         [-1, 32, 112, 112]               0\n",
      "         MaxPool2d-6           [-1, 32, 56, 56]               0\n",
      "            Conv2d-7           [-1, 16, 56, 56]           4,624\n",
      "              ReLU-8           [-1, 16, 56, 56]               0\n",
      "         MaxPool2d-9           [-1, 16, 28, 28]               0\n",
      "           Conv2d-10           [-1, 16, 28, 28]           2,320\n",
      "             ReLU-11           [-1, 16, 28, 28]               0\n",
      "         Upsample-12           [-1, 16, 56, 56]               0\n",
      "           Conv2d-13           [-1, 32, 56, 56]           4,640\n",
      "             ReLU-14           [-1, 32, 56, 56]               0\n",
      "         Upsample-15         [-1, 32, 112, 112]               0\n",
      "           Conv2d-16         [-1, 64, 112, 112]          18,496\n",
      "             ReLU-17         [-1, 64, 112, 112]               0\n",
      "         Upsample-18         [-1, 64, 224, 224]               0\n",
      "           Conv2d-19          [-1, 3, 224, 224]           1,731\n",
      "          Sigmoid-20          [-1, 3, 224, 224]               0\n",
      "           Conv2d-21           [-1, 16, 28, 28]           2,320\n",
      "             ReLU-22           [-1, 16, 28, 28]               0\n",
      "         Upsample-23           [-1, 16, 56, 56]               0\n",
      "           Conv2d-24           [-1, 32, 56, 56]           4,640\n",
      "             ReLU-25           [-1, 32, 56, 56]               0\n",
      "         Upsample-26         [-1, 32, 112, 112]               0\n",
      "           Conv2d-27         [-1, 64, 112, 112]          18,496\n",
      "             ReLU-28         [-1, 64, 112, 112]               0\n",
      "         Upsample-29         [-1, 64, 224, 224]               0\n",
      "           Conv2d-30          [-1, 3, 224, 224]           1,731\n",
      "          Sigmoid-31          [-1, 3, 224, 224]               0\n",
      "================================================================\n",
      "Total params: 79,254\n",
      "Trainable params: 79,254\n",
      "Non-trainable params: 0\n",
      "----------------------------------------------------------------\n",
      "Input size (MB): 0.57\n",
      "Forward/backward pass size (MB): 151.31\n",
      "Params size (MB): 0.30\n",
      "Estimated Total Size (MB): 152.18\n",
      "----------------------------------------------------------------\n"
     ]
    }
   ],
   "source": [
    "from torchsummary import summary\n",
    "summary(model, (3, 224, 224))"
   ]
  },
  {
   "cell_type": "code",
   "execution_count": 222,
   "metadata": {},
   "outputs": [
    {
     "name": "stderr",
     "output_type": "stream",
     "text": [
      "c:\\Users\\Rina\\AppData\\Local\\Programs\\Python\\Python310\\lib\\site-packages\\torch\\nn\\modules\\loss.py:535: UserWarning: Using a target size (torch.Size([1, 3, 32, 32])) that is different to the input size (torch.Size([2, 3, 32, 32])). This will likely lead to incorrect results due to broadcasting. Please ensure they have the same size.\n",
      "  return F.mse_loss(input, target, reduction=self.reduction)\n"
     ]
    },
    {
     "name": "stdout",
     "output_type": "stream",
     "text": [
      "Epoch [1/20], Loss: 0.1060\n",
      "Epoch [2/20], Loss: 0.0974\n",
      "Epoch [3/20], Loss: 0.0949\n",
      "Epoch [4/20], Loss: 0.0937\n",
      "Epoch [5/20], Loss: 0.0932\n",
      "Epoch [6/20], Loss: 0.0927\n",
      "Epoch [7/20], Loss: 0.0924\n",
      "Epoch [8/20], Loss: 0.0921\n",
      "Epoch [9/20], Loss: 0.0919\n",
      "Epoch [10/20], Loss: 0.0919\n",
      "Epoch [11/20], Loss: 0.0918\n",
      "Epoch [12/20], Loss: 0.0916\n",
      "Epoch [13/20], Loss: 0.0916\n",
      "Epoch [14/20], Loss: 0.0915\n",
      "Epoch [15/20], Loss: 0.0914\n",
      "Epoch [16/20], Loss: 0.0922\n",
      "Epoch [17/20], Loss: 0.0913\n",
      "Epoch [18/20], Loss: 0.0913\n",
      "Epoch [19/20], Loss: 0.0913\n",
      "Epoch [20/20], Loss: 0.0914\n",
      "Training finished.\n"
     ]
    }
   ],
   "source": [
    "num_epochs = 20\n",
    "batch_size = 2\n",
    "\n",
    "for epoch in range(num_epochs):\n",
    "    for i in range(0, len(X_train), batch_size):\n",
    "        inputs = X_train[i:i + batch_size]\n",
    "        optimizer.zero_grad()\n",
    "        outputs1, outputs2 = model(inputs)\n",
    "        loss1 = criterion(outputs1, mnist_image)\n",
    "        loss2 = criterion(outputs2, cifar_image)\n",
    "        loss = loss1 + loss2\n",
    "        loss.backward()\n",
    "        optimizer.step()\n",
    "\n",
    "    print(f'Epoch [{epoch+1}/{num_epochs}], Loss: {loss.item():.4f}')\n",
    "\n",
    "print('Training finished.')\n"
   ]
  },
  {
   "cell_type": "code",
   "execution_count": 223,
   "metadata": {},
   "outputs": [
    {
     "name": "stdout",
     "output_type": "stream",
     "text": [
      "torch.Size([1, 3, 32, 32])\n",
      "torch.Size([1, 3, 32, 32])\n"
     ]
    },
    {
     "data": {
      "image/png": "[encoded data removed]",
      "text/plain": [
       "<Figure size 1000x500 with 2 Axes>"
      ]
     },
     "metadata": {},
     "output_type": "display_data"
    }
   ],
   "source": [
    "import matplotlib.pyplot as plt\n",
    "import torchvision.transforms as transforms\n",
    "\n",
    "print(mean_image.shape)\n",
    "if mean_image.dim() == 4:\n",
    "    mean_image = mean_image.squeeze(0) \n",
    "\n",
    "\n",
    "mean_image_batch = mean_image.unsqueeze(0)\n",
    "print(mean_image_batch.shape)\n",
    "\n",
    "\n",
    "model.eval()\n",
    "with torch.no_grad():\n",
    "    generated_image1, generated_image2 = model(mean_image_batch)\n",
    "\n",
    "generated_image1 = transforms.ToPILImage()(generated_image1.squeeze(0))\n",
    "generated_image2 = transforms.ToPILImage()(generated_image2.squeeze(0))\n",
    "fig, axes = plt.subplots(1, 2, figsize=(10, 5))\n",
    "\n",
    "axes[0].imshow(generated_image1)\n",
    "axes[0].set_title('Generated Image 1')\n",
    "axes[0].axis('off')\n",
    "\n",
    "axes[1].imshow(generated_image2)\n",
    "axes[1].set_title('Generated Image 2')\n",
    "axes[1].axis('off')\n",
    "\n",
    "plt.show()\n"
   ]
  },
  {
   "cell_type": "code",
   "execution_count": 224,
   "metadata": {},
   "outputs": [
    {
     "name": "stdout",
     "output_type": "stream",
     "text": [
      "SSIM1: 0.6782892674979256, SSIM2: 0.9649068710539076\n",
      "PSNR1: 10.389025597308487, PSNR2: 34.315770043653934\n"
     ]
    }
   ],
   "source": [
    "import torch\n",
    "import torchvision.transforms as transforms\n",
    "from PIL import Image\n",
    "import matplotlib.pyplot as plt\n",
    "from skimage.metrics import structural_similarity as ssim\n",
    "from skimage.metrics import peak_signal_noise_ratio as psnr\n",
    "\n",
    "mean_image_batch = mean_image.unsqueeze(0) \n",
    "model.eval()\n",
    "with torch.no_grad():\n",
    "    generated_image1, generated_image2 = model(mean_image_batch)\n",
    "\n",
    "\n",
    "generated_image1_np = generated_image1.squeeze(0).permute(1, 2, 0).cpu().numpy()\n",
    "generated_image2_np = generated_image2.squeeze(0).permute(1, 2, 0).cpu().numpy()\n",
    "original_image1_np = mnist_image.squeeze(0).permute(1, 2, 0).cpu().numpy()\n",
    "original_image2_np = cifar_image.squeeze(0).permute(1, 2, 0).cpu().numpy()\n",
    "\n",
    "data_range = original_image1_np.max() - original_image1_np.min()\n",
    "\n",
    "win_size = 3 \n",
    "\n",
    "ssim1 = ssim(original_image1_np, generated_image1_np, win_size=win_size, data_range=data_range, multichannel=True)\n",
    "ssim2 = ssim(original_image2_np, generated_image2_np, win_size=win_size, data_range=data_range, multichannel=True)\n",
    "psnr1 = psnr(original_image1_np, generated_image1_np, data_range=data_range)\n",
    "psnr2 = psnr(original_image2_np, generated_image2_np, data_range=data_range)\n",
    "\n",
    "print(f\"SSIM1: {ssim1}, SSIM2: {ssim2}\")\n",
    "print(f\"PSNR1: {psnr1}, PSNR2: {psnr2}\")"
   ]
  },
  {
   "cell_type": "code",
   "execution_count": null,
   "metadata": {},
   "outputs": [],
   "source": []
  }
 ],
 "metadata": {
  "kernelspec": {
   "display_name": "Python 3",
   "language": "python",
   "name": "python3"
  },
  "language_info": {
   "codemirror_mode": {
    "name": "ipython",
    "version": 3
   },
   "file_extension": ".py",
   "mimetype": "text/x-python",
   "name": "python",
   "nbconvert_exporter": "python",
   "pygments_lexer": "ipython3",
   "version": "3.10.6"
  }
 },
 "nbformat": 4,
 "nbformat_minor": 2
}
